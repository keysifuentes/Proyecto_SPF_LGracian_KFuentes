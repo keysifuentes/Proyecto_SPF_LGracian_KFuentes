{
 "cells": [
  {
   "cell_type": "markdown",
   "id": "9ce1ecc3",
   "metadata": {},
   "source": [
    "___\n",
    "<img style=\"float: left; margin: 30px 15px 15px 15px;\" src=\"https://d33wubrfki0l68.cloudfront.net/4ec62c1c925a380c912ddad740d18554c6822a11/fabe4/img/sponsors/iteso-university.png\" width=\"300\" height=\"500\" /> \n",
    "    \n",
    "    \n",
    "### <font color='navy'> Simulación de procesos financieros. \n",
    "\n",
    "**Nombres:** Larissa Gracián Camacho, Keysi Fuentes Piña.\n",
    "\n",
    "**Fecha:** ########.\n",
    "\n",
    "**Expediente** : 737863, ######.\n",
    "**Profesor:** Oscar David Jaramillo Zuluaga.\n",
    "    \n",
    "**Link Github**: Link con el enlace del repositorio del creador del proyecto\n",
    "\n",
    "# Proyecto TEMA-2"
   ]
  },
  {
   "cell_type": "markdown",
   "id": "99d71807",
   "metadata": {},
   "source": [
    "# Herramienta de Simulación para la Predicción del Rendimiento Bursátil"
   ]
  },
  {
   "cell_type": "markdown",
   "id": "46063786",
   "metadata": {},
   "source": [
    "### Objetivo General:\n",
    "Desarrollar un modelo predictivo y un simulador de rendimiento para el análisis del comportamiento de los precios de las acciones en el mercado financiero.\n",
    "\n",
    "### Objetivos Específicos:\n",
    "1. Investigar y recopilar datos históricos de precios de acciones relevantes en el mercado.\n",
    "2. Diseñar y desarrollar un modelo matemático para calcular el rendimiento de las acciones a partir de los datos recopilados.\n",
    "3. Implementar algoritmos de simulación para predecir la variabilidad de los precios de las acciones en el futuro.\n",
    "4. Validar el modelo y el simulador utilizando técnicas de validación cruzada y análisis de errores.\n",
    "5. Realizar simulaciones computacionales para evaluar diferentes escenarios y estrategias de inversión.\n",
    "6. Analizar los resultados obtenidos y proporcionar conclusiones sobre la efectividad del modelo y el simulador en la predicción del rendimiento de las acciones.\n",
    "7. Proporcionar recomendaciones para la toma de decisiones de inversión basadas en los resultados obtenidos del modelo y las simulaciones."
   ]
  },
  {
   "cell_type": "code",
   "execution_count": null,
   "id": "3bfad6ff",
   "metadata": {},
   "outputs": [],
   "source": []
  },
  {
   "cell_type": "code",
   "execution_count": null,
   "id": "b9e75705",
   "metadata": {},
   "outputs": [],
   "source": []
  },
  {
   "cell_type": "code",
   "execution_count": null,
   "id": "eec89283",
   "metadata": {},
   "outputs": [],
   "source": []
  }
 ],
 "metadata": {
  "kernelspec": {
   "display_name": "Python 3 (ipykernel)",
   "language": "python",
   "name": "python3"
  },
  "language_info": {
   "codemirror_mode": {
    "name": "ipython",
    "version": 3
   },
   "file_extension": ".py",
   "mimetype": "text/x-python",
   "name": "python",
   "nbconvert_exporter": "python",
   "pygments_lexer": "ipython3",
   "version": "3.9.18"
  }
 },
 "nbformat": 4,
 "nbformat_minor": 5
}
